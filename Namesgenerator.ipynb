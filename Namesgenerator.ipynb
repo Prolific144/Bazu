{
  "nbformat": 4,
  "nbformat_minor": 0,
  "metadata": {
    "colab": {
      "provenance": [],
      "authorship_tag": "ABX9TyOsGIyVYhpbiZ9FuqC8vOzT",
      "include_colab_link": true
    },
    "kernelspec": {
      "name": "python3",
      "display_name": "Python 3"
    },
    "language_info": {
      "name": "python"
    }
  },
  "cells": [
    {
      "cell_type": "markdown",
      "metadata": {
        "id": "view-in-github",
        "colab_type": "text"
      },
      "source": [
        "<a href=\"https://colab.research.google.com/github/Prolific144/Bazu/blob/main/Namesgenerator.ipynb\" target=\"_parent\"><img src=\"https://colab.research.google.com/assets/colab-badge.svg\" alt=\"Open In Colab\"/></a>"
      ]
    },
    {
      "cell_type": "markdown",
      "source": [
        "Name Prediction Algorithm"
      ],
      "metadata": {
        "id": "mLwjrOttA6sI"
      }
    },
    {
      "cell_type": "code",
      "source": [
        "import random\n",
        "import difflib\n",
        "import requests\n",
        "from tabulate import tabulate\n",
        "\n",
        "# The alphabet\n",
        "alphabet = 'abcdefghijklmnopqrstuvwxyz'\n",
        "\n",
        "# Function to generate a random name with syllables\n",
        "def generate_name_syllables(syllables=2):\n",
        "    name = ''\n",
        "    vowels = 'aeiou'\n",
        "\n",
        "    for _ in range(syllables):\n",
        "        syllable = random.choice(alphabet)  # Start with a consonant\n",
        "        syllable += random.choice(vowels)   # Add a vowel\n",
        "        name += syllable\n",
        "\n",
        "    return name\n",
        "\n",
        "# Function to check name uniqueness\n",
        "def is_unique(name, existing_names):\n",
        "    return name not in existing_names\n",
        "\n",
        "# Function to generate stylish names\n",
        "def generate_stylish_name(syllables=2):\n",
        "    existing_names = set()  # To ensure uniqueness\n",
        "    stylish_name = ''\n",
        "\n",
        "    while True:\n",
        "        new_name = generate_name_syllables(syllables)\n",
        "\n",
        "        # Check if it's unique, stylish, and meaningful\n",
        "        if is_unique(new_name, existing_names) and is_stylish(new_name) and is_meaningful(new_name):\n",
        "            existing_names.add(new_name)\n",
        "            stylish_name = new_name\n",
        "            break\n",
        "\n",
        "    return stylish_name\n",
        "\n",
        "# Function to get the meaning of a name from the Behind the Name API\n",
        "def get_name_meaning_from_api(name):\n",
        "    try:\n",
        "        api_key = 'YOUR_API_KEY'  # Replace with your actual API key from Behind the Name\n",
        "        url = f\"https://www.behindthename.com/api/lookup.json?name={name}&key={api_key}\"\n",
        "\n",
        "        response = requests.get(url)\n",
        "\n",
        "        if response.status_code == 200:\n",
        "            data = response.json()\n",
        "            if 'meaning' in data:\n",
        "                return data['meaning']\n",
        "            else:\n",
        "                return \"Meaning not available\"\n",
        "        else:\n",
        "            return \"Meaning not available\"\n",
        "    except Exception as e:\n",
        "        print(f\"Failed to fetch meaning for {name}: {str(e)}\")\n",
        "        return \"Meaning not available\"\n",
        "\n",
        "# Function to generate names based on user input or random generation\n",
        "def generate_names_from_input(input_name, num_names=5):\n",
        "    # Generate num_names - 1 names with close pronunciation and varying lengths\n",
        "    similar_names = []\n",
        "\n",
        "    # Include the user's input name and its meaning\n",
        "    similar_names.append([input_name, get_name_meaning_from_api(input_name)])\n",
        "\n",
        "    generated_similar_names = [generate_stylish_name() for _ in range(100)]\n",
        "    close_matches = difflib.get_close_matches(input_name, generated_similar_names)\n",
        "\n",
        "    if close_matches:\n",
        "        similar_name = close_matches[0]\n",
        "        similar_names.append([similar_name, get_name_meaning_from_api(similar_name)])\n",
        "\n",
        "    for _ in range(num_names - 2):\n",
        "        # Generate a name with a similar starting letter\n",
        "        start_letter = input_name[0]\n",
        "        similar_start_name = generate_stylish_name(len(input_name) // 2)\n",
        "        similar_start_name = start_letter + similar_start_name[1:]\n",
        "\n",
        "        similar_names.extend([[similar_start_name, get_name_meaning_from_api(similar_start_name)]])\n",
        "\n",
        "    return similar_names\n",
        "\n",
        "# Function to define stylishness criteria (customize as needed)\n",
        "def is_stylish(name):\n",
        "    # Example: You can add more rules to ensure stylishness\n",
        "    return len(name) >= 4  # Names should be at least 4 characters long\n",
        "\n",
        "# Function to check if a name is meaningful (simplified example)\n",
        "def is_meaningful(name):\n",
        "    # Example: Check if the name has at least one vowel\n",
        "    vowels = 'aeiou'\n",
        "    return any(char in vowels for char in name)\n",
        "\n",
        "# Main function to interact with the user\n",
        "def main():\n",
        "    print(\"Welcome to the Stylish Name Generator!\")\n",
        "\n",
        "    # Ask the user if they want to insert a preferred name\n",
        "    use_input_name = input(\"Do you want to insert a preferred name? (yes/no): \").strip().lower()\n",
        "\n",
        "    if use_input_name == \"yes\":\n",
        "        input_name = input(\"Enter your preferred name: \").strip()\n",
        "        num_names = int(input(\"Enter the number of similar names to generate: \"))\n",
        "\n",
        "        if not input_name:\n",
        "            print(\"Please enter a valid name.\")\n",
        "            return\n",
        "\n",
        "        generated_names = generate_names_from_input(input_name, num_names)\n",
        "    else:\n",
        "        syllables = int(input(\"Enter the desired number of syllables: \"))\n",
        "        num_names = int(input(\"Enter the number of names to generate: \"))\n",
        "\n",
        "        generated_names = []\n",
        "        for _ in range(num_names):\n",
        "            stylish_name = generate_stylish_name(syllables)\n",
        "            generated_names.append([stylish_name, get_name_meaning_from_api(stylish_name)])\n",
        "\n",
        "    print(\"\\nGenerated Names:\")\n",
        "    table = tabulate(generated_names, headers=[\"Name\", \"Meaning\"], tablefmt=\"fancy_grid\")\n",
        "    print(table)\n",
        "\n",
        "if __name__ == \"__main__\":\n",
        "    main()\n"
      ],
      "metadata": {
        "colab": {
          "base_uri": "https://localhost:8080/"
        },
        "id": "5acT6wkFFZ3a",
        "outputId": "41acb0e7-1923-4e01-a162-4e402e746d95"
      },
      "execution_count": 89,
      "outputs": [
        {
          "output_type": "stream",
          "name": "stdout",
          "text": [
            "Welcome to the Stylish Name Generator!\n",
            "Do you want to insert a preferred name? (yes/no): yes\n",
            "Enter your preferred name: steven\n",
            "Enter the number of similar names to generate: 7\n",
            "\n",
            "Generated Names:\n",
            "╒════════╤═══════════════════════╕\n",
            "│ Name   │ Meaning               │\n",
            "╞════════╪═══════════════════════╡\n",
            "│ steven │ Meaning not available │\n",
            "├────────┼───────────────────────┤\n",
            "│ tece   │ Meaning not available │\n",
            "├────────┼───────────────────────┤\n",
            "│ sipequ │ Meaning not available │\n",
            "├────────┼───────────────────────┤\n",
            "│ suzilo │ Meaning not available │\n",
            "├────────┼───────────────────────┤\n",
            "│ suyieu │ Meaning not available │\n",
            "├────────┼───────────────────────┤\n",
            "│ sikiio │ Meaning not available │\n",
            "├────────┼───────────────────────┤\n",
            "│ siiana │ Meaning not available │\n",
            "╘════════╧═══════════════════════╛\n"
          ]
        }
      ]
    },
    {
      "cell_type": "code",
      "source": [],
      "metadata": {
        "id": "VBFzkAJPOs9z"
      },
      "execution_count": null,
      "outputs": []
    },
    {
      "cell_type": "code",
      "source": [],
      "metadata": {
        "id": "-AQ4eY7eEHqn"
      },
      "execution_count": 87,
      "outputs": []
    }
  ]
}