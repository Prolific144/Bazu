import random
import difflib
import requests
from tabulate import tabulate

# The alphabet
alphabet = 'abcdefghijklmnopqrstuvwxyz'

# Function to generate a random name with syllables
def generate_name_syllables(syllables=2):
    name = ''
    vowels = 'aeiou'
    
    for _ in range(syllables):
        syllable = random.choice(alphabet)  # Start with a consonant
        syllable += random.choice(vowels)   # Add a vowel
        name += syllable
    
    return name

# Function to check name uniqueness
def is_unique(name, existing_names):
    return name not in existing_names

# Function to generate stylish names
def generate_stylish_name(syllables=2):
    existing_names = set()  # To ensure uniqueness
    stylish_name = ''
    
    while True:
        new_name = generate_name_syllables(syllables)
        
        # Check if it's unique, stylish, and meaningful
        if is_unique(new_name, existing_names) and is_stylish(new_name) and is_meaningful(new_name):
            existing_names.add(new_name)
            stylish_name = new_name
            break
    
    return stylish_name

# Function to get the meaning of a name from the Behind the Name API
def get_name_meaning_from_api(name):
    try:
        api_key = 'YOUR_API_KEY'  # Replace with your actual API key from Behind the Name
        url = f"https://www.behindthename.com/api/lookup.json?name={name}&key={api_key}"
        
        response = requests.get(url)
        
        if response.status_code == 200:
            data = response.json()
            if 'meaning' in data:
                return data['meaning']
            else:
                return "Meaning not available"
        else:
            return "Meaning not available"
    except Exception as e:
        print(f"Failed to fetch meaning for {name}: {str(e)}")
        return "Meaning not available"

# Function to generate names based on user input or random generation
def generate_names_from_input(input_name, num_names=5):
    # Generate num_names - 1 names with close pronunciation and varying lengths
    similar_names = []
    
    # Include the user's input name and its meaning
    similar_names.append([input_name, get_name_meaning_from_api(input_name)])
    
    generated_similar_names = [generate_stylish_name() for _ in range(100)]
    close_matches = difflib.get_close_matches(input_name, generated_similar_names)
    
    if close_matches:
        similar_name = close_matches[0]
        similar_names.append([similar_name, get_name_meaning_from_api(similar_name)])
    
    for _ in range(num_names - 2):
        # Generate a name with a similar starting letter
        start_letter = input_name[0]
        similar_start_name = generate_stylish_name(len(input_name) // 2)
        similar_start_name = start_letter + similar_start_name[1:]
        
        similar_names.extend([[similar_start_name, get_name_meaning_from_api(similar_start_name)]])
    
    return similar_names

# Function to define stylishness criteria (customize as needed)
def is_stylish(name):
    # Example: You can add more rules to ensure stylishness
    return len(name) >= 4  # Names should be at least 4 characters long

# Function to check if a name is meaningful (simplified example)
def is_meaningful(name):
    # Example: Check if the name has at least one vowel
    vowels = 'aeiou'
    return any(char in vowels for char in name)

# Main function to interact with the user
def main():
    print("Welcome to the Stylish Name Generator!")
    
    # Ask the user if they want to insert a preferred name
    use_input_name = input("Do you want to insert a preferred name? (yes/no): ").strip().lower()
    
    if use_input_name == "yes":
        input_name = input("Enter your preferred name: ").strip()
        num_names = int(input("Enter the number of similar names to generate: "))
        
        if not input_name:
            print("Please enter a valid name.")
            return
        
        generated_names = generate_names_from_input(input_name, num_names)
    else:
        syllables = int(input("Enter the desired number of syllables: "))
        num_names = int(input("Enter the number of names to generate: "))
        
        generated_names = []
        for _ in range(num_names):
            stylish_name = generate_stylish_name(syllables)
            generated_names.append([stylish_name, get_name_meaning_from_api(stylish_name)])
    
    print("\nGenerated Names:")
    table = tabulate(generated_names, headers=["Name", "Meaning"], tablefmt="fancy_grid")
    print(table)

if __name__ == "__main__":
    main()
